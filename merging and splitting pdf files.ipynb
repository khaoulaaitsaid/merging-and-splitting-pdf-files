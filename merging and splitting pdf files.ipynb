{
 "cells": [
  {
   "cell_type": "code",
   "execution_count": null,
   "id": "1d459d5e-8cf7-47c2-b9fb-831b1d8090b3",
   "metadata": {},
   "outputs": [],
   "source": [
    "#merging pdfs\n",
    "from PyPDF2 import PdfMerger\n",
    "\n",
    "pdfs = ['1.pdf', '2.pdf']\n",
    "merger = PdfMerger()\n",
    "\n",
    "for pdf in pdfs:\n",
    "    merger.append(pdf)\n",
    "\n",
    "merger.write(\"merged.pdf\")\n",
    "merger.close()\n",
    "merger.append(\"3.pdf\", pages=(0,4,2))\n"
   ]
  },
  {
   "cell_type": "code",
   "execution_count": null,
   "id": "2dd660d2-4487-485b-8d53-132190b4e6d9",
   "metadata": {},
   "outputs": [],
   "source": [
    "#splitting pdf\n",
    "from PyPDF2 import PdfReader, PdfWriter\n",
    "\n",
    "pages = [0]\n",
    "\n",
    "with open(\"merged.pdf\", \"rb\") as f:\n",
    "    reader = PdfReader(f)\n",
    "    writer = PdfWriter()\n",
    "    rest_writer = PdfWriter()\n",
    "    \n",
    "    for page in range(len(reader.pages)):\n",
    "        if page in pages:\n",
    "            writer.add_page(reader.pages[page])\n",
    "        else:\n",
    "            rest_writer.add_page(reader.pages[page])\n",
    "    \n",
    "    with open(\"selected.pdf\", \"wb\") as f2:\n",
    "        writer.write(f2)\n",
    "    \n",
    "    with open(\"rest.pdf\", \"wb\") as f2:\n",
    "        rest_writer.write(f2)\n"
   ]
  }
 ],
 "metadata": {
  "kernelspec": {
   "display_name": "Python 3 (ipykernel)",
   "language": "python",
   "name": "python3"
  },
  "language_info": {
   "codemirror_mode": {
    "name": "ipython",
    "version": 3
   },
   "file_extension": ".py",
   "mimetype": "text/x-python",
   "name": "python",
   "nbconvert_exporter": "python",
   "pygments_lexer": "ipython3",
   "version": "3.11.3"
  }
 },
 "nbformat": 4,
 "nbformat_minor": 5
}
